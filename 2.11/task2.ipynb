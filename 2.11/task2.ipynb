{
 "cells": [
  {
   "cell_type": "code",
   "execution_count": 66,
   "id": "3fb6b42a",
   "metadata": {},
   "outputs": [],
   "source": [
    "import pandas as pd"
   ]
  },
  {
   "cell_type": "code",
   "execution_count": 67,
   "id": "08327f93",
   "metadata": {},
   "outputs": [],
   "source": [
    "FILEPATH = \"data/stock_data.csv\"\n",
    "\n",
    "df = pd.read_csv(\n",
    "    FILEPATH,\n",
    "    parse_dates=[\"Date\"],\n",
    ")"
   ]
  },
  {
   "cell_type": "code",
   "execution_count": null,
   "id": "8f461f62",
   "metadata": {},
   "outputs": [
    {
     "data": {
      "text/html": [
       "<div>\n",
       "<style scoped>\n",
       "    .dataframe tbody tr th:only-of-type {\n",
       "        vertical-align: middle;\n",
       "    }\n",
       "\n",
       "    .dataframe tbody tr th {\n",
       "        vertical-align: top;\n",
       "    }\n",
       "\n",
       "    .dataframe thead th {\n",
       "        text-align: right;\n",
       "    }\n",
       "</style>\n",
       "<table border=\"1\" class=\"dataframe\">\n",
       "  <thead>\n",
       "    <tr style=\"text-align: right;\">\n",
       "      <th></th>\n",
       "      <th>Date</th>\n",
       "      <th>Close</th>\n",
       "      <th>Volume</th>\n",
       "      <th>Open</th>\n",
       "      <th>High</th>\n",
       "      <th>Low</th>\n",
       "    </tr>\n",
       "  </thead>\n",
       "  <tbody>\n",
       "    <tr>\n",
       "      <th>0</th>\n",
       "      <td>2025-03-07</td>\n",
       "      <td>239.07</td>\n",
       "      <td>46273570</td>\n",
       "      <td>235.105</td>\n",
       "      <td>241.3700</td>\n",
       "      <td>234.7600</td>\n",
       "    </tr>\n",
       "    <tr>\n",
       "      <th>1</th>\n",
       "      <td>2025-03-06</td>\n",
       "      <td>235.33</td>\n",
       "      <td>45170420</td>\n",
       "      <td>234.435</td>\n",
       "      <td>237.8600</td>\n",
       "      <td>233.1581</td>\n",
       "    </tr>\n",
       "    <tr>\n",
       "      <th>2</th>\n",
       "      <td>2025-03-05</td>\n",
       "      <td>235.74</td>\n",
       "      <td>47227640</td>\n",
       "      <td>235.420</td>\n",
       "      <td>236.5500</td>\n",
       "      <td>229.2300</td>\n",
       "    </tr>\n",
       "    <tr>\n",
       "      <th>3</th>\n",
       "      <td>2025-03-04</td>\n",
       "      <td>235.93</td>\n",
       "      <td>53798060</td>\n",
       "      <td>237.705</td>\n",
       "      <td>240.0700</td>\n",
       "      <td>234.6800</td>\n",
       "    </tr>\n",
       "    <tr>\n",
       "      <th>4</th>\n",
       "      <td>2025-03-03</td>\n",
       "      <td>238.03</td>\n",
       "      <td>47183990</td>\n",
       "      <td>241.790</td>\n",
       "      <td>244.0272</td>\n",
       "      <td>236.1120</td>\n",
       "    </tr>\n",
       "  </tbody>\n",
       "</table>\n",
       "</div>"
      ],
      "text/plain": [
       "        Date   Close    Volume     Open      High       Low\n",
       "0 2025-03-07  239.07  46273570  235.105  241.3700  234.7600\n",
       "1 2025-03-06  235.33  45170420  234.435  237.8600  233.1581\n",
       "2 2025-03-05  235.74  47227640  235.420  236.5500  229.2300\n",
       "3 2025-03-04  235.93  53798060  237.705  240.0700  234.6800\n",
       "4 2025-03-03  238.03  47183990  241.790  244.0272  236.1120"
      ]
     },
     "execution_count": 68,
     "metadata": {},
     "output_type": "execute_result"
    }
   ],
   "source": [
    "df.iloc[:5]\n",
    "# df.head()"
   ]
  },
  {
   "cell_type": "code",
   "execution_count": 69,
   "id": "a06623aa",
   "metadata": {},
   "outputs": [
    {
     "data": {
      "text/plain": [
       "Date      0\n",
       "Close     0\n",
       "Volume    0\n",
       "Open      0\n",
       "High      0\n",
       "Low       0\n",
       "dtype: int64"
      ]
     },
     "execution_count": 69,
     "metadata": {},
     "output_type": "execute_result"
    }
   ],
   "source": [
    "df.isnull().sum()"
   ]
  },
  {
   "cell_type": "code",
   "execution_count": 82,
   "id": "25a99997",
   "metadata": {},
   "outputs": [],
   "source": [
    "# df.insert(df.shape[1], \"Daily Return\", df[\"Close\"] - df[\"Open\"])\n",
    "# df.insert(df.shape[1], \"Cumulative Return\", df[\"Daily Return\"]/df[\"Open\"])\n",
    "\n",
    "df[\"Daily Return\"] = df[\"Close\"].pct_change()\n",
    "df[\"Cumulative Return\"] = (1 + df[\"Daily Return\"]).cumprod() - 1"
   ]
  },
  {
   "cell_type": "code",
   "execution_count": 86,
   "id": "6ebe8a95",
   "metadata": {},
   "outputs": [
    {
     "data": {
      "text/html": [
       "<div>\n",
       "<style scoped>\n",
       "    .dataframe tbody tr th:only-of-type {\n",
       "        vertical-align: middle;\n",
       "    }\n",
       "\n",
       "    .dataframe tbody tr th {\n",
       "        vertical-align: top;\n",
       "    }\n",
       "\n",
       "    .dataframe thead th {\n",
       "        text-align: right;\n",
       "    }\n",
       "</style>\n",
       "<table border=\"1\" class=\"dataframe\">\n",
       "  <thead>\n",
       "    <tr style=\"text-align: right;\">\n",
       "      <th></th>\n",
       "      <th>Date</th>\n",
       "      <th>Close</th>\n",
       "      <th>Volume</th>\n",
       "      <th>Open</th>\n",
       "      <th>High</th>\n",
       "      <th>Low</th>\n",
       "      <th>Daily Return</th>\n",
       "      <th>Cumulative Return</th>\n",
       "    </tr>\n",
       "  </thead>\n",
       "  <tbody>\n",
       "    <tr>\n",
       "      <th>0</th>\n",
       "      <td>2025-03-07</td>\n",
       "      <td>239.07</td>\n",
       "      <td>46273570</td>\n",
       "      <td>235.105</td>\n",
       "      <td>241.3700</td>\n",
       "      <td>234.7600</td>\n",
       "      <td>NaN</td>\n",
       "      <td>NaN</td>\n",
       "    </tr>\n",
       "    <tr>\n",
       "      <th>1</th>\n",
       "      <td>2025-03-06</td>\n",
       "      <td>235.33</td>\n",
       "      <td>45170420</td>\n",
       "      <td>234.435</td>\n",
       "      <td>237.8600</td>\n",
       "      <td>233.1581</td>\n",
       "      <td>-0.015644</td>\n",
       "      <td>-0.015644</td>\n",
       "    </tr>\n",
       "    <tr>\n",
       "      <th>2</th>\n",
       "      <td>2025-03-05</td>\n",
       "      <td>235.74</td>\n",
       "      <td>47227640</td>\n",
       "      <td>235.420</td>\n",
       "      <td>236.5500</td>\n",
       "      <td>229.2300</td>\n",
       "      <td>0.001742</td>\n",
       "      <td>-0.013929</td>\n",
       "    </tr>\n",
       "    <tr>\n",
       "      <th>3</th>\n",
       "      <td>2025-03-04</td>\n",
       "      <td>235.93</td>\n",
       "      <td>53798060</td>\n",
       "      <td>237.705</td>\n",
       "      <td>240.0700</td>\n",
       "      <td>234.6800</td>\n",
       "      <td>0.000806</td>\n",
       "      <td>-0.013134</td>\n",
       "    </tr>\n",
       "    <tr>\n",
       "      <th>4</th>\n",
       "      <td>2025-03-03</td>\n",
       "      <td>238.03</td>\n",
       "      <td>47183990</td>\n",
       "      <td>241.790</td>\n",
       "      <td>244.0272</td>\n",
       "      <td>236.1120</td>\n",
       "      <td>0.008901</td>\n",
       "      <td>-0.004350</td>\n",
       "    </tr>\n",
       "  </tbody>\n",
       "</table>\n",
       "</div>"
      ],
      "text/plain": [
       "        Date   Close    Volume     Open      High       Low  Daily Return  \\\n",
       "0 2025-03-07  239.07  46273570  235.105  241.3700  234.7600           NaN   \n",
       "1 2025-03-06  235.33  45170420  234.435  237.8600  233.1581     -0.015644   \n",
       "2 2025-03-05  235.74  47227640  235.420  236.5500  229.2300      0.001742   \n",
       "3 2025-03-04  235.93  53798060  237.705  240.0700  234.6800      0.000806   \n",
       "4 2025-03-03  238.03  47183990  241.790  244.0272  236.1120      0.008901   \n",
       "\n",
       "   Cumulative Return  \n",
       "0                NaN  \n",
       "1          -0.015644  \n",
       "2          -0.013929  \n",
       "3          -0.013134  \n",
       "4          -0.004350  "
      ]
     },
     "execution_count": 86,
     "metadata": {},
     "output_type": "execute_result"
    }
   ],
   "source": [
    "df.head()"
   ]
  },
  {
   "cell_type": "code",
   "execution_count": 89,
   "id": "f312cfd1",
   "metadata": {},
   "outputs": [
    {
     "name": "stdout",
     "output_type": "stream",
     "text": [
      "Date\n",
      "2024-12-31    212.411902\n",
      "2025-12-31    236.536364\n",
      "Freq: YE-DEC, Name: Close, dtype: float64\n",
      "Date\n",
      "2024-03-31     966326440\n",
      "2024-04-30    1246221580\n",
      "2024-05-31    1336570170\n",
      "2024-06-30    1723984500\n",
      "2024-07-31    1153193400\n",
      "2024-08-31    1122667050\n",
      "2024-09-30    1232391900\n",
      "2024-10-31     930835970\n",
      "2024-11-30     891640720\n",
      "2024-12-31     977942040\n",
      "2025-01-31    1200291580\n",
      "2025-02-28     862317020\n",
      "2025-03-31     239653680\n",
      "Freq: ME, Name: Volume, dtype: int64\n"
     ]
    }
   ],
   "source": [
    "# print(df.groupby([pd.Grouper(freq=\"YE\", key=\"Date\")])[[\"Close\"]].mean())\n",
    "# print(df.groupby([pd.Grouper(freq=\"ME\", key=\"Date\")])[[\"Volume\"]].sum())\n",
    "\n",
    "df.set_index(\"Date\", inplace=True)\n",
    "\n",
    "print(df[\"Close\"].resample(\"YE\").mean())\n",
    "print(df[\"Volume\"].resample(\"ME\").sum())"
   ]
  },
  {
   "cell_type": "code",
   "execution_count": 90,
   "id": "366adfa2",
   "metadata": {},
   "outputs": [
    {
     "name": "stdout",
     "output_type": "stream",
     "text": [
      "-0.001197083401224487\n",
      "0.0149906944956409\n"
     ]
    }
   ],
   "source": [
    "print(df[\"Daily Return\"].mean())\n",
    "print(df[\"Daily Return\"].std())"
   ]
  }
 ],
 "metadata": {
  "kernelspec": {
   "display_name": "MADS_Python_Bootcamp",
   "language": "python",
   "name": "python3"
  },
  "language_info": {
   "codemirror_mode": {
    "name": "ipython",
    "version": 3
   },
   "file_extension": ".py",
   "mimetype": "text/x-python",
   "name": "python",
   "nbconvert_exporter": "python",
   "pygments_lexer": "ipython3",
   "version": "3.13.5"
  }
 },
 "nbformat": 4,
 "nbformat_minor": 5
}
