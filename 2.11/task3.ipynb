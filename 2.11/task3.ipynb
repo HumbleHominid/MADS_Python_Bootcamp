{
 "cells": [
  {
   "cell_type": "code",
   "execution_count": 16,
   "id": "c7851eac",
   "metadata": {},
   "outputs": [],
   "source": [
    "import pandas as pd"
   ]
  },
  {
   "cell_type": "code",
   "execution_count": 17,
   "id": "71062bd0",
   "metadata": {},
   "outputs": [
    {
     "name": "stdout",
     "output_type": "stream",
     "text": [
      "<class 'pandas.core.frame.DataFrame'>\n",
      "RangeIndex: 100 entries, 0 to 99\n",
      "Data columns (total 4 columns):\n",
      " #   Column                       Non-Null Count  Dtype\n",
      "---  ------                       --------------  -----\n",
      " 0   Marketing Spend (in $1000s)  100 non-null    int64\n",
      " 1   R&D Investment (in $1000s)   100 non-null    int64\n",
      " 2   Number of Employees          100 non-null    int64\n",
      " 3   Revenue (in $1000s)          100 non-null    int64\n",
      "dtypes: int64(4)\n",
      "memory usage: 3.3 KB\n"
     ]
    }
   ],
   "source": [
    "FILEPATH = \"data/company_data.csv\"\n",
    "\n",
    "df = pd.read_csv(FILEPATH)\n",
    "\n",
    "df.info()"
   ]
  },
  {
   "cell_type": "code",
   "execution_count": 18,
   "id": "11bbb3fc",
   "metadata": {},
   "outputs": [],
   "source": [
    "x, y = df.iloc[:, :-1], df.iloc[:, -1]\n",
    "x.insert(0, 'bias', 1)"
   ]
  },
  {
   "cell_type": "code",
   "execution_count": 19,
   "id": "a231806f",
   "metadata": {},
   "outputs": [],
   "source": [
    "import statsmodels.api as sm\n",
    "\n",
    "model = sm.OLS(y, x).fit()"
   ]
  },
  {
   "cell_type": "code",
   "execution_count": 20,
   "id": "833cb7d1",
   "metadata": {},
   "outputs": [
    {
     "name": "stdout",
     "output_type": "stream",
     "text": [
      "                             OLS Regression Results                            \n",
      "===============================================================================\n",
      "Dep. Variable:     Revenue (in $1000s)   R-squared:                       0.989\n",
      "Model:                             OLS   Adj. R-squared:                  0.989\n",
      "Method:                  Least Squares   F-statistic:                     2854.\n",
      "Date:                 Tue, 29 Jul 2025   Prob (F-statistic):           1.12e-93\n",
      "Time:                         15:59:02   Log-Likelihood:                -446.23\n",
      "No. Observations:                  100   AIC:                             900.5\n",
      "Df Residuals:                       96   BIC:                             910.9\n",
      "Df Model:                            3                                         \n",
      "Covariance Type:             nonrobust                                         \n",
      "===============================================================================================\n",
      "                                  coef    std err          t      P>|t|      [0.025      0.975]\n",
      "-----------------------------------------------------------------------------------------------\n",
      "bias                           46.9734     15.769      2.979      0.004      15.673      78.274\n",
      "Marketing Spend (in $1000s)     3.4749      0.066     52.438      0.000       3.343       3.606\n",
      "R&D Investment (in $1000s)      4.1724      0.127     32.841      0.000       3.920       4.425\n",
      "Number of Employees             1.8141      0.024     74.536      0.000       1.766       1.862\n",
      "==============================================================================\n",
      "Omnibus:                        1.151   Durbin-Watson:                   2.061\n",
      "Prob(Omnibus):                  0.562   Jarque-Bera (JB):                1.038\n",
      "Skew:                          -0.036   Prob(JB):                        0.595\n",
      "Kurtosis:                       2.506   Cond. No.                     2.76e+03\n",
      "==============================================================================\n",
      "\n",
      "Notes:\n",
      "[1] Standard Errors assume that the covariance matrix of the errors is correctly specified.\n",
      "[2] The condition number is large, 2.76e+03. This might indicate that there are\n",
      "strong multicollinearity or other numerical problems.\n"
     ]
    }
   ],
   "source": [
    "print(model.summary())"
   ]
  },
  {
   "cell_type": "code",
   "execution_count": 21,
   "id": "e594128b",
   "metadata": {},
   "outputs": [
    {
     "name": "stdout",
     "output_type": "stream",
     "text": [
      "Predicted revenue: $1,110.14\n"
     ]
    }
   ],
   "source": [
    "marketing_spend = 75\n",
    "r_d_investment = 88\n",
    "num_employees = 240\n",
    "\n",
    "revenue = model.predict([1, marketing_spend, r_d_investment, num_employees])\n",
    "print(f\"Predicted revenue: ${revenue[0]:,.2f}\")"
   ]
  }
 ],
 "metadata": {
  "kernelspec": {
   "display_name": "MADS_Python_Bootcamp",
   "language": "python",
   "name": "python3"
  },
  "language_info": {
   "codemirror_mode": {
    "name": "ipython",
    "version": 3
   },
   "file_extension": ".py",
   "mimetype": "text/x-python",
   "name": "python",
   "nbconvert_exporter": "python",
   "pygments_lexer": "ipython3",
   "version": "3.13.5"
  }
 },
 "nbformat": 4,
 "nbformat_minor": 5
}
