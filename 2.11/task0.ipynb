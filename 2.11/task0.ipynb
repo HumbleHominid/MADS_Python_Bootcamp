{
 "cells": [
  {
   "cell_type": "code",
   "execution_count": 10,
   "id": "d675bddc",
   "metadata": {},
   "outputs": [],
   "source": [
    "import pandas as pd\n",
    "\n",
    "data = {\n",
    "    'Name': ['Alice', 'Bob', 'Charlie', 'David', 'Eva', 'Frank'],\n",
    "    'Age': [24, 27, 22, 32, 29, 23],\n",
    "    'City': ['New York', 'Los Angeles', 'New York', 'Houston', 'San Francisco', 'New York'],\n",
    "    'Salary': [70000, 80000, 65000, 90000, 75000, 60000]\n",
    "}\n",
    "\n",
    "df = pd.DataFrame(data)\n"
   ]
  },
  {
   "cell_type": "code",
   "execution_count": 11,
   "id": "03ca00cb",
   "metadata": {},
   "outputs": [
    {
     "name": "stdout",
     "output_type": "stream",
     "text": [
      "      Name  Age           City  Salary\n",
      "0    Alice   24       New York   70000\n",
      "1      Bob   27    Los Angeles   80000\n",
      "2  Charlie   22       New York   65000\n",
      "3    David   32        Houston   90000\n",
      "4      Eva   29  San Francisco   75000\n",
      "5    Frank   23       New York   60000\n"
     ]
    }
   ],
   "source": [
    "print(df)"
   ]
  },
  {
   "cell_type": "code",
   "execution_count": null,
   "id": "575fdfa0",
   "metadata": {},
   "outputs": [
    {
     "name": "stdout",
     "output_type": "stream",
     "text": [
      "0      Alice\n",
      "1        Bob\n",
      "2    Charlie\n",
      "3      David\n",
      "4        Eva\n",
      "5      Frank\n",
      "Name: Name, dtype: object\n",
      "0    70000\n",
      "1    80000\n",
      "2    65000\n",
      "3    90000\n",
      "4    75000\n",
      "5    60000\n",
      "Name: Salary, dtype: int64\n"
     ]
    }
   ],
   "source": [
    "# Select the 'Name' and 'Salary' columns\n",
    "names = df.Name\n",
    "salaries = df.Salary\n",
    "print(names)\n",
    "print(salaries)"
   ]
  },
  {
   "cell_type": "code",
   "execution_count": null,
   "id": "1f5f2730",
   "metadata": {},
   "outputs": [
    {
     "name": "stdout",
     "output_type": "stream",
     "text": [
      "      Name  Age         City  Salary\n",
      "0    Alice   24     New York   70000\n",
      "1      Bob   27  Los Angeles   80000\n",
      "2  Charlie   22     New York   65000\n"
     ]
    }
   ],
   "source": [
    "# Select the first three rows of the DataFrame\n",
    "rows_1_to_3 = df.iloc[:3]\n",
    "print(rows_1_to_3)"
   ]
  },
  {
   "cell_type": "code",
   "execution_count": 19,
   "id": "c5c6ff5e",
   "metadata": {},
   "outputs": [
    {
     "name": "stdout",
     "output_type": "stream",
     "text": [
      "    Name  Age           City  Salary\n",
      "1    Bob   27    Los Angeles   80000\n",
      "3  David   32        Houston   90000\n",
      "4    Eva   29  San Francisco   75000\n"
     ]
    }
   ],
   "source": [
    "# Print rows where age > 25\n",
    "over_25 = df.loc[df['Age'] > 25]\n",
    "print(over_25)"
   ]
  },
  {
   "cell_type": "code",
   "execution_count": 20,
   "id": "fe297c06",
   "metadata": {},
   "outputs": [
    {
     "name": "stdout",
     "output_type": "stream",
     "text": [
      "      Name  Age           City  Salary   Bonus\n",
      "0    Alice   24       New York   70000  7000.0\n",
      "1      Bob   27    Los Angeles   80000  8000.0\n",
      "2  Charlie   22       New York   65000  6500.0\n",
      "3    David   32        Houston   90000  9000.0\n",
      "4      Eva   29  San Francisco   75000  7500.0\n",
      "5    Frank   23       New York   60000  6000.0\n"
     ]
    }
   ],
   "source": [
    "# Add bonus column which is 10% of salary\n",
    "df['Bonus'] = df['Salary'] * 0.10\n",
    "print(df)"
   ]
  },
  {
   "cell_type": "code",
   "execution_count": 22,
   "id": "c148d1b6",
   "metadata": {},
   "outputs": [
    {
     "name": "stdout",
     "output_type": "stream",
     "text": [
      "      Name  Age           City  Salary   Bonus\n",
      "0    Alice   24       New York   70000  7000.0\n",
      "1      Bob   27  San Francisco   80000  8000.0\n",
      "2  Charlie   22       New York   65000  6500.0\n",
      "3    David   32        Houston   90000  9000.0\n",
      "4      Eva   29  San Francisco   75000  7500.0\n",
      "5    Frank   23       New York   60000  6000.0\n"
     ]
    }
   ],
   "source": [
    "# Change the City of Bob to SF\n",
    "df.loc[df['Name'] == 'Bob', 'City'] = 'San Francisco'\n",
    "print(df)"
   ]
  },
  {
   "cell_type": "code",
   "execution_count": null,
   "id": "86c01faa",
   "metadata": {},
   "outputs": [
    {
     "name": "stdout",
     "output_type": "stream",
     "text": [
      "      Name  Age           City  Salary\n",
      "0    Alice   24       New York   70000\n",
      "1      Bob   27  San Francisco   80000\n",
      "2  Charlie   22       New York   65000\n",
      "3    David   32        Houston   90000\n",
      "4      Eva   29  San Francisco   75000\n",
      "5    Frank   23       New York   60000\n"
     ]
    }
   ],
   "source": [
    "# Delete the 'Bonus' column\n",
    "del df['Bonus']\n",
    "print(df)"
   ]
  },
  {
   "cell_type": "code",
   "execution_count": 24,
   "id": "0fda8889",
   "metadata": {},
   "outputs": [
    {
     "name": "stdout",
     "output_type": "stream",
     "text": [
      "            City   Salary\n",
      "0        Houston  90000.0\n",
      "1       New York  65000.0\n",
      "2  San Francisco  77500.0\n"
     ]
    }
   ],
   "source": [
    "# Group the DataFrame by ‘City’ and calculate the average ‘Salary’ for each\n",
    "df_grouped = df.groupby('City')['Salary'].mean().reset_index()\n",
    "print(df_grouped)"
   ]
  }
 ],
 "metadata": {
  "kernelspec": {
   "display_name": "MADS_Python_Bootcamp",
   "language": "python",
   "name": "python3"
  },
  "language_info": {
   "codemirror_mode": {
    "name": "ipython",
    "version": 3
   },
   "file_extension": ".py",
   "mimetype": "text/x-python",
   "name": "python",
   "nbconvert_exporter": "python",
   "pygments_lexer": "ipython3",
   "version": "3.13.5"
  }
 },
 "nbformat": 4,
 "nbformat_minor": 5
}
