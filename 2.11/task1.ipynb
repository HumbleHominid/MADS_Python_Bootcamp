{
 "cells": [
  {
   "cell_type": "code",
   "execution_count": 1,
   "id": "aa1c1d0a",
   "metadata": {},
   "outputs": [],
   "source": [
    "import pandas as pd\n",
    "\n",
    "data = {\n",
    "'Name': ['Alice', 'Bob', 'Charlie', 'David', 'Eve'],\n",
    "'Age': [24, 27, 22, 32, 29],\n",
    "'City': ['New York', 'Los Angeles', 'Chicago', 'Houston', 'Phoenix'],\n",
    "'Score': [85, 90, 88, 92, 95]\n",
    "}\n",
    "df = pd.DataFrame(data)"
   ]
  },
  {
   "cell_type": "code",
   "execution_count": 2,
   "id": "5a2385e4",
   "metadata": {},
   "outputs": [
    {
     "name": "stdout",
     "output_type": "stream",
     "text": [
      "      Name         City\n",
      "0    Alice     New York\n",
      "1      Bob  Los Angeles\n",
      "2  Charlie      Chicago\n",
      "3    David      Houston\n",
      "4      Eve      Phoenix\n"
     ]
    }
   ],
   "source": [
    "name_city = df.loc[:, ['Name', 'City']]\n",
    "print(name_city)"
   ]
  },
  {
   "cell_type": "code",
   "execution_count": 3,
   "id": "4f7e9149",
   "metadata": {},
   "outputs": [
    {
     "name": "stdout",
     "output_type": "stream",
     "text": [
      "      Name  Score\n",
      "0    Alice     85\n",
      "1      Bob     90\n",
      "2  Charlie     88\n"
     ]
    }
   ],
   "source": [
    "three_name_score = df.iloc[:3, [0, 3]]\n",
    "print(three_name_score)"
   ]
  },
  {
   "cell_type": "code",
   "execution_count": 4,
   "id": "b94067ba",
   "metadata": {},
   "outputs": [
    {
     "name": "stdout",
     "output_type": "stream",
     "text": [
      "    Name  Age         City  Score\n",
      "1    Bob   27  Los Angeles     90\n",
      "3  David   32      Houston     92\n"
     ]
    }
   ],
   "source": [
    "odd_rows = df.iloc[lambda x: x.index % 2 == 1 ]\n",
    "print(odd_rows)"
   ]
  },
  {
   "cell_type": "code",
   "execution_count": 5,
   "id": "3f24553e",
   "metadata": {},
   "outputs": [
    {
     "name": "stdout",
     "output_type": "stream",
     "text": [
      "      Name  Age     City  Score\n",
      "2  Charlie   22  Chicago     88\n",
      "3    David   32  Houston     92\n"
     ]
    }
   ],
   "source": [
    "chicago_houston = df.loc[(df['City'] == 'Chicago') | (df['City'] == 'Houston')]\n",
    "print(chicago_houston)"
   ]
  },
  {
   "cell_type": "code",
   "execution_count": 6,
   "id": "adb25c00",
   "metadata": {},
   "outputs": [
    {
     "name": "stdout",
     "output_type": "stream",
     "text": [
      "    Name  Score\n",
      "3  David     92\n",
      "4    Eve     95\n"
     ]
    }
   ],
   "source": [
    "score_above_ninety = df.loc[df['Score'] > 90, ['Name', 'Score']]\n",
    "print(score_above_ninety)"
   ]
  },
  {
   "cell_type": "code",
   "execution_count": 7,
   "id": "fce3fca0",
   "metadata": {},
   "outputs": [
    {
     "name": "stdout",
     "output_type": "stream",
     "text": [
      "   Age     City\n",
      "3   32  Houston\n",
      "4   29  Phoenix\n"
     ]
    }
   ],
   "source": [
    "last_two_rows = df.iloc[-2:, [1, 2]]\n",
    "print(last_two_rows)"
   ]
  }
 ],
 "metadata": {
  "kernelspec": {
   "display_name": "Python 3",
   "language": "python",
   "name": "python3"
  },
  "language_info": {
   "codemirror_mode": {
    "name": "ipython",
    "version": 3
   },
   "file_extension": ".py",
   "mimetype": "text/x-python",
   "name": "python",
   "nbconvert_exporter": "python",
   "pygments_lexer": "ipython3",
   "version": "3.13.5"
  }
 },
 "nbformat": 4,
 "nbformat_minor": 5
}
