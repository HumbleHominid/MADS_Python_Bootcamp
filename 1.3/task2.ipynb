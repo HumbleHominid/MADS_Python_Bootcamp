{
 "cells": [
  {
   "cell_type": "markdown",
   "id": "271fac07",
   "metadata": {},
   "source": [
    "# This is a print statement\n",
    "print(\"Hello World\")"
   ]
  },
  {
   "cell_type": "code",
   "execution_count": 3,
   "id": "89a8a002",
   "metadata": {},
   "outputs": [
    {
     "name": "stdout",
     "output_type": "stream",
     "text": [
      "Hello World\n"
     ]
    }
   ],
   "source": [
    "# This is a print statement\n",
    "print(\"Hello World\")"
   ]
  },
  {
   "cell_type": "raw",
   "id": "9728b610",
   "metadata": {
    "vscode": {
     "languageId": "raw"
    }
   },
   "source": [
    "# This is a print statement\n",
    "print(\"Hello World\")"
   ]
  }
 ],
 "metadata": {
  "kernelspec": {
   "display_name": "MADS_Python_Bootcamp",
   "language": "python",
   "name": "python3"
  },
  "language_info": {
   "codemirror_mode": {
    "name": "ipython",
    "version": 3
   },
   "file_extension": ".py",
   "mimetype": "text/x-python",
   "name": "python",
   "nbconvert_exporter": "python",
   "pygments_lexer": "ipython3",
   "version": "3.13.5"
  }
 },
 "nbformat": 4,
 "nbformat_minor": 5
}
